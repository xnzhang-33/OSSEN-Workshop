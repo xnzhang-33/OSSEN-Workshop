{
  "cells": [
    {
      "cell_type": "markdown",
      "id": "4428834ffc0202bb",
      "metadata": {
        "id": "4428834ffc0202bb"
      },
      "source": [
        "# OSSEN Tutorial-Elsa Arcaute: Street Networks and Accessibility\n",
        "\n",
        "Authors:\n",
        "- Elsa Arcaute (e.arcaute@ucl.ac.uk)\n",
        "- Miao Zeng (ucbqmz7@ucl.ac.uk)\n",
        "- Andrew Renninger (andrew.renninger.12@ucl.ac.uk)\n",
        "- Xiuning Zhang (xiuning.zhang.23@ucl.ac.uk)"
      ]
    },
    {
      "cell_type": "markdown",
      "id": "d023b2620e08d617",
      "metadata": {
        "id": "d023b2620e08d617"
      },
      "source": [
        "## Introduction\n",
        "This tutorial is designed to introduce you to the analysis of urban networks using Python. The tutorial is divided into two parts:\n",
        "1. **Street Network**: this part shows you how to represent and analyse the street system as a network using the OSMnx library. It helps you to download and analyse spatial data from OpenStreetMap. \n",
        "2. **Network Percolation and Accessibility**: Besides the basic statistical description of the street networks, we will then apply percolation analysis to the street network to find spatial clusters on different scales, as well as conduct analysis of network accessibility."
      ]
    },
    {
      "cell_type": "code",
      "execution_count": null,
      "id": "423ca367",
      "metadata": {
        "id": "423ca367"
      },
      "outputs": [],
      "source": [
        "# -*- coding: utf-8 -*-\n",
        "!git clone https://github.com/xnzhang-33/OSSEN-Workshop"
      ]
    },
    {
      "cell_type": "code",
      "execution_count": null,
      "id": "f9293c54",
      "metadata": {
        "ExecuteTime": {
          "end_time": "2025-06-21T15:28:12.314249Z",
          "start_time": "2025-06-21T15:28:11.373342Z"
        },
        "id": "f9293c54"
      },
      "outputs": [],
      "source": [
        "# Install all required packages for the tutorial\n",
        "# !pip install -q --upgrade pip\n",
        "!pip install -q matplotlib networkx osmnx mapclassify colorcet geopandas folium"
      ]
    },
    {
      "cell_type": "markdown",
      "id": "dd04b006168f919e",
      "metadata": {
        "id": "dd04b006168f919e"
      },
      "source": [
        "## Part I Street Networks\n",
        "In the first part of this tutorial, we will learn about one specific kind of urban network—the street network:\n",
        "1. Understand how to represent the street system as a network.\n",
        "2. Learn to use the OSMnx library."
      ]
    },
    {
      "cell_type": "markdown",
      "id": "sized-speech",
      "metadata": {
        "id": "sized-speech"
      },
      "source": [
        "### 1. Representing the Street Network as a Graph\n",
        "![street network representation](https://github.com/xnzhang-33/OSSEN-Workshop/blob/main/street_networks.png?raw=1)\n",
        "\n",
        "From: [Street Network Studies: from Networks to Models and their Representations](https://link.springer.com/article/10.1007/s11067-018-9427-9)"
      ]
    },
    {
      "cell_type": "markdown",
      "id": "muslim-hearing",
      "metadata": {
        "id": "muslim-hearing"
      },
      "source": [
        "###  2.The OSMnx library\n",
        "It is a Python library to help you download and analyse spatial data from OpenStreetMap.\n",
        "https://osmnx.readthedocs.io/en/stable/\n",
        "\n",
        "OSMnx is built on top of GeoPandas, and NetworkX:\n",
        "* Downloads and creates a NetworkX graph of street networks or other infrastructure networks\n",
        "    * Automatically cleans (topologically corrects) the network for you.\n",
        "* Download any other spatial geometries (buildings, POIs, place **boundaries**)"
      ]
    },
    {
      "cell_type": "markdown",
      "id": "o3-PfGS0yD5G",
      "metadata": {
        "id": "o3-PfGS0yD5G"
      },
      "source": [
        "#### **Step 1** Install & Import Libraries"
      ]
    },
    {
      "cell_type": "code",
      "execution_count": null,
      "id": "automatic-kitty",
      "metadata": {
        "ExecuteTime": {
          "end_time": "2025-06-21T15:28:17.738175Z",
          "start_time": "2025-06-21T15:28:16.449465Z"
        },
        "id": "automatic-kitty"
      },
      "outputs": [],
      "source": [
        "import networkx as nx\n",
        "import osmnx as ox\n",
        "import pandas as pd\n",
        "import matplotlib.pyplot as plt\n",
        "import numpy as np\n",
        "import geopandas as gpd\n",
        "# from osgeo import gdal"
      ]
    },
    {
      "cell_type": "code",
      "execution_count": null,
      "id": "3199b513-8c7a-4880-97dc-77cba1f6bd0f",
      "metadata": {
        "ExecuteTime": {
          "end_time": "2025-06-21T15:28:18.557518Z",
          "start_time": "2025-06-21T15:28:18.554522Z"
        },
        "id": "3199b513-8c7a-4880-97dc-77cba1f6bd0f"
      },
      "outputs": [],
      "source": [
        "import warnings\n",
        "warnings.filterwarnings(\"ignore\", category=DeprecationWarning, module=\"pandas.core.frame\")\n",
        "\n",
        "# Set pandas display options for better readability\n",
        "pd.options.display.max_columns = 100\n",
        "pd.options.display.max_rows = 100"
      ]
    },
    {
      "cell_type": "markdown",
      "id": "KpagCfz1yQQS",
      "metadata": {
        "id": "KpagCfz1yQQS"
      },
      "source": [
        "#### **Step 2** Acquire Street Network"
      ]
    },
    {
      "cell_type": "code",
      "execution_count": null,
      "id": "pacific-lotus",
      "metadata": {
        "ExecuteTime": {
          "end_time": "2025-06-21T15:28:21.385861Z",
          "start_time": "2025-06-21T15:28:19.924717Z"
        },
        "id": "pacific-lotus"
      },
      "outputs": [],
      "source": [
        "# We can build a graph by giving the name of the place\n",
        "G1 = ox.graph_from_place('Oxford, England, United Kingdom', network_type='drive')\n",
        "print(type(G1))"
      ]
    },
    {
      "cell_type": "code",
      "execution_count": null,
      "id": "featured-backing",
      "metadata": {
        "ExecuteTime": {
          "end_time": "2025-06-21T15:28:22.406993Z",
          "start_time": "2025-06-21T15:28:22.133329Z"
        },
        "id": "featured-backing"
      },
      "outputs": [],
      "source": [
        "fig, ax = ox.plot_graph(G1)\n"
      ]
    },
    {
      "cell_type": "code",
      "execution_count": null,
      "id": "enabling-wonder",
      "metadata": {
        "ExecuteTime": {
          "end_time": "2025-06-21T15:28:24.240569Z",
          "start_time": "2025-06-21T15:28:23.738012Z"
        },
        "id": "enabling-wonder"
      },
      "outputs": [],
      "source": [
        "# We can also build a graph by giving the coordinates and a radius\n",
        "\n",
        "Uni_Oxford = (51.7570,-1.2545)\n",
        "radius = 1500 # metres\n",
        "G = ox.graph_from_point(Uni_Oxford, dist=radius, network_type='drive')\n",
        "fig, ax = ox.plot_graph(G)"
      ]
    },
    {
      "cell_type": "code",
      "execution_count": null,
      "id": "dutch-victoria",
      "metadata": {
        "ExecuteTime": {
          "end_time": "2025-06-21T15:28:31.869489Z",
          "start_time": "2025-06-21T15:28:31.489533Z"
        },
        "id": "dutch-victoria"
      },
      "outputs": [],
      "source": [
        "# We can also get other infrastructure networks\n",
        "# change the overpass query to meet the new style 'New York, NY, USA'\n",
        "G = ox.graph_from_place('Oxford, England, United Kingdom',\n",
        "                        retain_all=False, truncate_by_edge=True, simplify=True,\n",
        "                        custom_filter='[\"railway\"]')\n",
        "\n",
        "# Plot the railway network\n",
        "fig, ax = ox.plot_graph(G, node_size=0, edge_color='blue', edge_linewidth=1, bgcolor='black', show=False, close=False)\n",
        "\n",
        "# Plot the road network on top of the same figure\n",
        "ox.plot_graph(G1, node_size=0, edge_color='w', edge_linewidth=1, bgcolor='black', ax=ax, show=True)"
      ]
    },
    {
      "cell_type": "markdown",
      "id": "RP1wEhiz2Ljk",
      "metadata": {
        "id": "RP1wEhiz2Ljk"
      },
      "source": [
        "#### **Step 3** Understanding the Data Structure & Getting some Basic Statistics"
      ]
    },
    {
      "cell_type": "code",
      "execution_count": null,
      "id": "8ee3736f-2fd9-4537-8cb3-f82ddefcd62c",
      "metadata": {
        "ExecuteTime": {
          "end_time": "2025-06-21T15:28:35.137381Z",
          "start_time": "2025-06-21T15:28:34.804076Z"
        },
        "id": "8ee3736f-2fd9-4537-8cb3-f82ddefcd62c"
      },
      "outputs": [],
      "source": [
        "# we can calculate basic street network metrics and display average circuity\n",
        "stats = ox.basic_stats(G1)\n",
        "stats"
      ]
    },
    {
      "cell_type": "code",
      "execution_count": null,
      "id": "feb9ddf3-b428-47a1-bf7e-803c04810a51",
      "metadata": {
        "ExecuteTime": {
          "end_time": "2025-06-21T15:29:00.606623Z",
          "start_time": "2025-06-21T15:28:35.213416Z"
        },
        "id": "feb9ddf3-b428-47a1-bf7e-803c04810a51"
      },
      "outputs": [],
      "source": [
        "# calculate betweenness with a digraph of G (ie, no parallel edges)\n",
        "bc = nx.betweenness_centrality(ox.convert.to_digraph(G1), weight=\"length\")"
      ]
    },
    {
      "cell_type": "code",
      "execution_count": null,
      "id": "f920af1a-9973-4cbc-82b1-67bc711b8788",
      "metadata": {
        "ExecuteTime": {
          "end_time": "2025-06-21T15:29:00.981083Z",
          "start_time": "2025-06-21T15:29:00.616011Z"
        },
        "id": "f920af1a-9973-4cbc-82b1-67bc711b8788"
      },
      "outputs": [],
      "source": [
        "# add the betweenness centrality values as new node attributes, then plot\n",
        "nx.set_node_attributes(G1, bc, \"bc\")\n",
        "nc = ox.plot.get_node_colors_by_attr(G1, \"bc\", cmap=\"plasma\")\n",
        "fig, ax = ox.plot_graph(\n",
        "    G1,\n",
        "    node_color=nc,\n",
        "    node_size=10,\n",
        "    node_zorder=2,\n",
        "    edge_linewidth=0.2,\n",
        "    edge_color=\"w\",\n",
        ")"
      ]
    },
    {
      "cell_type": "markdown",
      "id": "Y5pFPrKY2968",
      "metadata": {
        "id": "Y5pFPrKY2968"
      },
      "source": [
        "#### **Step 4** Acquire Other Spatial Data"
      ]
    },
    {
      "cell_type": "code",
      "execution_count": null,
      "id": "7j9fxXJo4qhu",
      "metadata": {
        "ExecuteTime": {
          "end_time": "2025-06-21T15:29:01.619991Z",
          "start_time": "2025-06-21T15:29:00.994510Z"
        },
        "id": "7j9fxXJo4qhu"
      },
      "outputs": [],
      "source": [
        "# get building footprints for the University of Oxford\n",
        "buildings = ox.features_from_point(Uni_Oxford, dist=radius,tags={'building':True})\n",
        "# get amenities for the University of Oxford\n",
        "amenities = ox.features_from_point(Uni_Oxford,dist=radius,tags={'amenity':True, 'geometry':'point'})\n"
      ]
    },
    {
      "cell_type": "code",
      "execution_count": null,
      "id": "_pp0r9nc5BZx",
      "metadata": {
        "ExecuteTime": {
          "end_time": "2025-06-21T15:29:02.249721Z",
          "start_time": "2025-06-21T15:29:01.643819Z"
        },
        "id": "_pp0r9nc5BZx"
      },
      "outputs": [],
      "source": [
        "ax = buildings.plot(column='building', figsize=(20, 20), legend=True)\n",
        "ax.set_axis_off()"
      ]
    },
    {
      "cell_type": "markdown",
      "id": "8f573aba",
      "metadata": {
        "id": "8f573aba"
      },
      "source": [
        "**Exercise**\n",
        "\n",
        "Now that we have shown you how to build a query to OpenStreetMap using `custom_filter`, see if you can do one yourself for the city of your choosing.\n",
        "\n",
        "1. Look at this [table](https://wiki.openstreetmap.org/wiki/Map_features) that shows the names of OSM features\n",
        "2. Substitute some of those into the query above\n",
        "4. Make sure to do one query that gets amenities, like restaurants or cafes and do another for a class of road\n",
        "\n",
        "Hint: points of interest, like amenities, come from `geometries_from_*` rather than `graph_from_*`. Use the \"tags\" field to choose what kinds of features you want to download in this function.\n",
        "\n",
        "---\n",
        "\n",
        "Something that may be important to your work will be distinguishing \"motorway\", \"primary\", \"secondary\", \"tertiary\" roads as well as downloading \"footpath\". Another thing that OSMnx can do is download amenities, which is important to spatial interaction modelling: amenities can take the place of population at destination when we try to model the attractiveness."
      ]
    },
    {
      "cell_type": "markdown",
      "id": "ce885904",
      "metadata": {
        "id": "ce885904"
      },
      "source": [
        "## Part II Percolation and accessibility\n",
        "In this section, we will conduct some analysis using obtained spatial network data."
      ]
    },
    {
      "cell_type": "markdown",
      "id": "GrtwrYClGz3Y",
      "metadata": {
        "id": "GrtwrYClGz3Y"
      },
      "source": [
        "### 3. Percolation analysis\n",
        "This section will apply percolation clustering analysis to the street network.\n",
        "\n",
        "Percolation can be used to identify the clusters of areas that are connected within a certain distance threshold. The process consists of a series of thresholds of the network, in which weak links get disconnected. For each threshold, different subgraphs emerge as the network starts to disconnect. The percolation threshold is the point at which the network transitions from a collection of isolated clusters to a single connected cluster."
      ]
    },
    {
      "cell_type": "markdown",
      "id": "XIq45Dv2nFIa",
      "metadata": {
        "id": "XIq45Dv2nFIa"
      },
      "source": [
        "#### **Step 1** Transforming to an Undirected Graph"
      ]
    },
    {
      "cell_type": "code",
      "execution_count": null,
      "id": "y_HVd5gRnG22",
      "metadata": {
        "ExecuteTime": {
          "end_time": "2025-06-21T15:29:03.357135Z",
          "start_time": "2025-06-21T15:29:02.963502Z"
        },
        "id": "y_HVd5gRnG22"
      },
      "outputs": [],
      "source": [
        "# convert your MultiDiGraph to an undirected MultiGraph\n",
        "G2 = ox.convert.to_undirected(G1)\n",
        "\n",
        "fig, ax = plt.subplots(figsize=(12,7))\n",
        "fig, ax = ox.plot_graph(G2,\n",
        "                        node_color='k',\n",
        "                        node_size = 10,\n",
        "                        ax=ax)"
      ]
    },
    {
      "cell_type": "code",
      "execution_count": null,
      "id": "7e57c6f0-bbb6-47fc-8db9-bbffe9e6012a",
      "metadata": {
        "ExecuteTime": {
          "end_time": "2025-06-21T15:29:03.701204Z",
          "start_time": "2025-06-21T15:29:03.381856Z"
        },
        "id": "7e57c6f0-bbb6-47fc-8db9-bbffe9e6012a"
      },
      "outputs": [],
      "source": [
        "ox.basic_stats(G1)"
      ]
    },
    {
      "cell_type": "code",
      "execution_count": null,
      "id": "6583103e-12d7-47b2-97a8-61f1b98bd72c",
      "metadata": {
        "ExecuteTime": {
          "end_time": "2025-06-21T15:29:03.789458Z",
          "start_time": "2025-06-21T15:29:03.724531Z"
        },
        "id": "6583103e-12d7-47b2-97a8-61f1b98bd72c"
      },
      "outputs": [],
      "source": [
        "ox.basic_stats(G2)"
      ]
    },
    {
      "cell_type": "markdown",
      "id": "s-vlg1WPiKrG",
      "metadata": {
        "id": "s-vlg1WPiKrG"
      },
      "source": [
        "#### **Step 2** Checking Edges & Nodes"
      ]
    },
    {
      "cell_type": "code",
      "execution_count": null,
      "id": "22bb40b1-acb0-4e1b-9008-9d64cf0053ed",
      "metadata": {
        "ExecuteTime": {
          "end_time": "2025-06-21T15:29:03.864156Z",
          "start_time": "2025-06-21T15:29:03.812342Z"
        },
        "id": "22bb40b1-acb0-4e1b-9008-9d64cf0053ed"
      },
      "outputs": [],
      "source": [
        "# From Graph to GeoDataFrame\n",
        "nodes, edges = ox.graph_to_gdfs(G2)\n",
        "nodes"
      ]
    },
    {
      "cell_type": "code",
      "execution_count": null,
      "id": "190b1d3d-5a8d-4d7e-b724-e2d1b6101d61",
      "metadata": {
        "ExecuteTime": {
          "end_time": "2025-06-21T15:29:03.909522Z",
          "start_time": "2025-06-21T15:29:03.902579Z"
        },
        "id": "190b1d3d-5a8d-4d7e-b724-e2d1b6101d61"
      },
      "outputs": [],
      "source": [
        "edges"
      ]
    },
    {
      "cell_type": "code",
      "execution_count": null,
      "id": "oybGhp6wnFIc",
      "metadata": {
        "ExecuteTime": {
          "end_time": "2025-06-21T15:29:04.051098Z",
          "start_time": "2025-06-21T15:29:03.962624Z"
        },
        "id": "oybGhp6wnFIc"
      },
      "outputs": [],
      "source": [
        "# Plot the GeoDataFrame\n",
        "fig, ax = plt.subplots(1, 1, figsize=(10, 6))\n",
        "\n",
        "# You can customise the plot with different options\n",
        "edges.plot(ax=ax, color='grey', linewidth=1, edgecolor='black')\n",
        "\n",
        "# Optionally, you can add titles and labels\n",
        "ax.set_title('Geospatial Data')\n",
        "ax.set_xlabel('Longitude')\n",
        "ax.set_ylabel('Latitude')\n",
        "ax.set_axis_off()\n",
        "\n",
        "# Show the plot\n",
        "plt.show()"
      ]
    },
    {
      "cell_type": "code",
      "execution_count": null,
      "id": "GycB3g_sYOff",
      "metadata": {
        "ExecuteTime": {
          "end_time": "2025-06-21T15:29:04.368699Z",
          "start_time": "2025-06-21T15:29:04.362775Z"
        },
        "id": "GycB3g_sYOff"
      },
      "outputs": [],
      "source": [
        "# Get a simplified node list\n",
        "data_coords = nodes[[\"x\",\"y\"]]\n",
        "data_coords['id_point'] = data_coords.index\n",
        "data_coords"
      ]
    },
    {
      "cell_type": "markdown",
      "id": "CZv_TjJoeNHk",
      "metadata": {
        "id": "CZv_TjJoeNHk"
      },
      "source": [
        "#### **Step 3** Percolation\n",
        "The process consists of a series of thresholds of the network. Through setting different distance thresholds, different subgraphs emerge as the network starts to disconnect.\n",
        "\n",
        "Note that the thresholds are NOT universal. Also that the networks from the OSM are incomplete, hence more detailed, referring to smaller streets being present, will only be given in cities where the effort to map those streets has been put into it. Hence, different distances will be found for the transitions in different cities."
      ]
    },
    {
      "cell_type": "markdown",
      "id": "5X96vNCTeU1Z",
      "metadata": {
        "id": "5X96vNCTeU1Z"
      },
      "source": [
        "First let us define the vector containing the percolation thresholds of interest"
      ]
    },
    {
      "cell_type": "code",
      "execution_count": null,
      "id": "UVYtVfUqeC9v",
      "metadata": {
        "ExecuteTime": {
          "end_time": "2025-06-21T15:29:04.476410Z",
          "start_time": "2025-06-21T15:29:04.474244Z"
        },
        "id": "UVYtVfUqeC9v"
      },
      "outputs": [],
      "source": [
        "rmin = 10  # 10 metres as the starting distance threshold\n",
        "rmax = 1001 # 1000 metres as the ending threshold\n",
        "r0 = np.arange(rmin, rmax, 10)\n",
        "n_loops = len(r0)\n",
        "\n",
        "# file_clust_size = 'cluster_size.txt'\n",
        "# with open(file_clust_size, 'w') as file:\n",
        "#     file.write('threshold\t size\n",
        "# ')"
      ]
    },
    {
      "cell_type": "markdown",
      "id": "W76KffO5eYIq",
      "metadata": {
        "id": "W76KffO5eYIq"
      },
      "source": [
        "Define the thresholds to plot the 10 largest clusters on maps"
      ]
    },
    {
      "cell_type": "code",
      "execution_count": null,
      "id": "BbhQBsoCe4hV",
      "metadata": {
        "ExecuteTime": {
          "end_time": "2025-06-21T15:29:04.571891Z",
          "start_time": "2025-06-21T15:29:04.570188Z"
        },
        "id": "BbhQBsoCe4hV"
      },
      "outputs": [],
      "source": [
        "jumps_2plot = [90,160,200,210,260,290,330]"
      ]
    },
    {
      "cell_type": "code",
      "execution_count": null,
      "id": "rK8iCJiFeYIr",
      "metadata": {
        "ExecuteTime": {
          "end_time": "2025-06-21T15:29:04.647304Z",
          "start_time": "2025-06-21T15:29:04.645660Z"
        },
        "id": "rK8iCJiFeYIr"
      },
      "outputs": [],
      "source": [
        "# Define the colours for the top 10 clusters\n",
        "top10 = ['red', 'green', 'blue', 'orange', 'purple', 'yellow', 'pink', 'cyan', 'magenta', 'brown']"
      ]
    },
    {
      "cell_type": "code",
      "execution_count": null,
      "id": "5y6azyCQVMn4",
      "metadata": {
        "ExecuteTime": {
          "end_time": "2025-06-21T15:29:04.703994Z",
          "start_time": "2025-06-21T15:29:04.673757Z"
        },
        "id": "5y6azyCQVMn4"
      },
      "outputs": [],
      "source": [
        "# Visualise the colours\n",
        "plt.bar(range(1, 11), range(1, 11), color=top10)\n",
        "plt.show()"
      ]
    },
    {
      "cell_type": "code",
      "execution_count": null,
      "id": "DdWUHDwIzOSD",
      "metadata": {
        "ExecuteTime": {
          "end_time": "2025-06-21T15:29:04.732901Z",
          "start_time": "2025-06-21T15:29:04.730677Z"
        },
        "id": "DdWUHDwIzOSD"
      },
      "outputs": [],
      "source": [
        "# Obtain the node counts of the network\n",
        "size_net = G2.number_of_nodes()\n",
        "size_net\n"
      ]
    },
    {
      "cell_type": "code",
      "execution_count": null,
      "id": "7S42ExMQe_gl",
      "metadata": {
        "ExecuteTime": {
          "end_time": "2025-06-21T15:29:07.321957Z",
          "start_time": "2025-06-21T15:29:04.761351Z"
        },
        "id": "7S42ExMQe_gl"
      },
      "outputs": [],
      "source": [
        "# Percolation process & plot\n",
        "for i_t in r0:\n",
        "    # Find subgraph such that all weights <= threshold r0\n",
        "    edges_1 = [(u, v, d) for u, v, d in G2.edges(data=True) if d['length'] <= i_t]\n",
        "    g = nx.Graph()\n",
        "    g.add_edges_from(edges_1)\n",
        "    g.remove_nodes_from(list(nx.isolates(g)))\n",
        "\n",
        "    # Take subcomponents\n",
        "    membclusters = {node: cid for cid, component in enumerate(nx.connected_components(g)) for node in component}\n",
        "\n",
        "    m = pd.DataFrame(list(membclusters.items()), columns=[\"id_point\", \"id_cluster\"])\n",
        "\n",
        "    table_data = m['id_cluster'].value_counts()\n",
        "\n",
        "    # Largest connected component\n",
        "    LCC = table_data.max()\n",
        "    LCC_p = LCC / size_net\n",
        "    v_LCC = [i_t, LCC, LCC_p]\n",
        "\n",
        "    if i_t == rmin:\n",
        "        v_LCC_t = np.array([v_LCC])\n",
        "    else:\n",
        "        v_LCC_t = np.vstack([v_LCC_t, v_LCC])\n",
        "\n",
        "    sorted_table = table_data.sort_values(ascending=False)\n",
        "\n",
        "    if i_t in jumps_2plot:\n",
        "\n",
        "        # Assign colours\n",
        "        list_clusts = sorted_table.reset_index()\n",
        "        list_clusts.columns = [\"id_cluster\", \"n_points\"]\n",
        "        list_clusts['colour'] = 'grey'\n",
        "        list_clusts.loc[:9, 'colour'] = top10\n",
        "        list_clusts['size'] = 0.1\n",
        "        list_clusts.loc[:9, 'size'] = 0.2\n",
        "\n",
        "        total_list = pd.merge(list_clusts, m, on=\"id_cluster\")\n",
        "\n",
        "        points_coords_cols = pd.merge(total_list, data_coords, on=\"id_point\")\n",
        "\n",
        "\n",
        "        # # Plot the original street network system  as background\n",
        "        # fig, ax = plt.subplots(1, 1, figsize=(10, 8),facecolor='black')\n",
        "        # edges.plot(ax=ax, color='grey', edgecolor='black')\n",
        "\n",
        "        # # plt.savefig(file_map, height=850, width=1000)\n",
        "        # plt.figure(figsize=(10, 8), facecolor='black')\n",
        "        # plt.scatter(points_coords_cols['x'], points_coords_cols['y'], s=points_coords_cols['size'] * 50, c=points_coords_cols['colour'], edgecolor='none')\n",
        "        # plt.title(f\"Oxford at d={i_t}m\", color='white')\n",
        "        # plt.axis('off')\n",
        "        # plt.show()\n",
        "        # # plt.savefig(file_map)\n",
        "        # # plt.close()\n",
        "\n",
        "        # Plot the original street network system as background\n",
        "        fig, ax = plt.subplots(1, 1, figsize=(10, 8), facecolor='black')\n",
        "\n",
        "\n",
        "        # Plot points\n",
        "        ax.scatter(points_coords_cols['x'], points_coords_cols['y'], s=points_coords_cols['size'] * 50, c=points_coords_cols['colour'], edgecolor='none',zorder = 1)\n",
        "\n",
        "         # Plot edges geometry as background\n",
        "        edges.plot(ax=ax, color='grey', linewidth=0.5, zorder = 0)\n",
        "\n",
        "        ax.set_title(f\"Oxford at d={i_t}m\", color='white')\n",
        "        ax.axis('off')\n",
        "\n",
        "        plt.show()\n"
      ]
    },
    {
      "cell_type": "code",
      "execution_count": null,
      "id": "zNZnwY1SiXag",
      "metadata": {
        "ExecuteTime": {
          "end_time": "2025-06-21T15:29:07.389985Z",
          "start_time": "2025-06-21T15:29:07.351020Z"
        },
        "id": "zNZnwY1SiXag"
      },
      "outputs": [],
      "source": [
        "import matplotlib.pyplot as plt\n",
        "\n",
        "plt.figure(facecolor='white')\n",
        "\n",
        "plt.scatter(v_LCC_t[:, 0], v_LCC_t[:, 2], c='black', s=5)\n",
        "plt.grid(True)\n",
        "\n",
        "plt.xlabel(\"distance\")\n",
        "plt.ylabel(\"size\")\n",
        "plt.title(\"Evolution of Largest Connected Component normalised\")\n",
        "\n",
        "plt.show()\n"
      ]
    },
    {
      "cell_type": "markdown",
      "id": "5af2341e",
      "metadata": {
        "id": "5af2341e"
      },
      "source": [
        "### 4. Retail Accessibility in Oxford"
      ]
    },
    {
      "cell_type": "markdown",
      "id": "ea6dfb72",
      "metadata": {
        "id": "ea6dfb72"
      },
      "source": [
        "We are going to use the street network to compute measures of accessibility. To do this, we will lean on \"Dijkstra's algorithm\", which is a method for finding the shortest path between two points in a graph. In this case, the graph is the street network, and the points are intersections of streets.\n",
        "\n",
        "**Dijkstra's Algorithm Steps:**\n",
        "\n",
        "1. Initialise all nodes with infinite distance; set starting node distance to 0\n",
        "2. Select the unvisited node with minimum distance\n",
        "3. Mark the selected node as visited\n",
        "4. Update distances to all adjacent unvisited nodes\n",
        "5. Repeat steps 2-4 until destination is reached or all nodes are visited\n",
        "\n",
        "[**N.B.** When you are working with very large graphs, you might try the A* algorithm, which is a more efficient version of Dijkstra's algorithm. It limits the search space by establishing a maximum \"detour\" beyond the direct path, focusing only on promising routes. So you can imagine, if you are trying to get from Berlin to Rome, your street network might be all of Europe but we could throw out the possibility of going through Athens or something.]"
      ]
    },
    {
      "cell_type": "code",
      "execution_count": null,
      "id": "61944d4b",
      "metadata": {
        "ExecuteTime": {
          "end_time": "2025-06-21T15:29:07.929918Z",
          "start_time": "2025-06-21T15:29:07.887980Z"
        },
        "id": "61944d4b"
      },
      "outputs": [],
      "source": [
        "# Additional imports for this section\n",
        "import colorcet as cc\n",
        "import re"
      ]
    },
    {
      "cell_type": "markdown",
      "id": "0cd3e619",
      "metadata": {
        "id": "0cd3e619"
      },
      "source": [
        "#### Step 1: Preparation\n",
        "Let's start by getting the data, slightly different from the previous one because we want to see **walking** behaviour."
      ]
    },
    {
      "cell_type": "code",
      "execution_count": null,
      "id": "7d6be8a2",
      "metadata": {
        "ExecuteTime": {
          "end_time": "2025-06-21T15:29:12.363032Z",
          "start_time": "2025-06-21T15:29:07.958406Z"
        },
        "id": "7d6be8a2"
      },
      "outputs": [],
      "source": [
        "# Grab the street network for our area of interest, this time for walking\n",
        "G_walk = ox.graph.graph_from_place('Oxford, England, United Kingdom', network_type='walk')"
      ]
    },
    {
      "cell_type": "code",
      "execution_count": null,
      "id": "58afd076",
      "metadata": {
        "ExecuteTime": {
          "end_time": "2025-06-21T15:29:13.320867Z",
          "start_time": "2025-06-21T15:29:12.400603Z"
        },
        "id": "58afd076"
      },
      "outputs": [],
      "source": [
        "# Remember how to plot the graph\n",
        "fig, ax = ox.plot_graph(G_walk)"
      ]
    },
    {
      "cell_type": "code",
      "execution_count": null,
      "id": "7354dd27",
      "metadata": {
        "ExecuteTime": {
          "end_time": "2025-06-21T15:29:13.365284Z",
          "start_time": "2025-06-21T15:29:13.360758Z"
        },
        "id": "7354dd27"
      },
      "outputs": [],
      "source": [
        "# Get the administrative boundary of the area\n",
        "area = ox.geocode_to_gdf('Oxford, England, United Kingdom')"
      ]
    },
    {
      "cell_type": "code",
      "execution_count": null,
      "id": "4f6953d5",
      "metadata": {
        "ExecuteTime": {
          "end_time": "2025-06-21T15:29:14.124458Z",
          "start_time": "2025-06-21T15:29:13.906569Z"
        },
        "id": "4f6953d5"
      },
      "outputs": [],
      "source": [
        "area.explore()"
      ]
    },
    {
      "cell_type": "markdown",
      "id": "f093d57a",
      "metadata": {
        "id": "f093d57a"
      },
      "source": [
        "For this section, we are going to use data on grocery stores from OpenStreetMap."
      ]
    },
    {
      "cell_type": "code",
      "execution_count": null,
      "id": "949405842458dbc5",
      "metadata": {
        "ExecuteTime": {
          "end_time": "2025-06-21T15:37:24.565315Z",
          "start_time": "2025-06-21T15:37:24.511214Z"
        },
        "id": "949405842458dbc5"
      },
      "outputs": [],
      "source": [
        "wd = './OSSEN-Workshop/'\n",
        "retail = pd.read_csv(wd + \"geolytix_retailpoints_v34_202412.csv\")\n",
        "\n",
        "retail = gpd.GeoDataFrame(retail, geometry=gpd.points_from_xy(retail['long_wgs'], retail['lat_wgs']), crs=\"EPSG:4326\")\n",
        "retail = retail[retail['geometry'].within(area.loc[0, 'geometry'])]\n",
        "retail.head()"
      ]
    },
    {
      "cell_type": "code",
      "execution_count": null,
      "id": "a5f029f23672ee1c",
      "metadata": {
        "ExecuteTime": {
          "end_time": "2025-06-21T15:37:49.914239Z",
          "start_time": "2025-06-21T15:37:49.911393Z"
        },
        "id": "a5f029f23672ee1c"
      },
      "outputs": [],
      "source": [
        "# How many retail locations are there?\n",
        "retail.shape"
      ]
    },
    {
      "cell_type": "code",
      "execution_count": null,
      "id": "a06918a3",
      "metadata": {
        "ExecuteTime": {
          "end_time": "2025-06-21T15:30:40.586606Z",
          "start_time": "2025-06-21T15:30:40.583907Z"
        },
        "id": "a06918a3"
      },
      "outputs": [],
      "source": [
        "# for some of the plotting, it would be nice to have an integer value for square footage\n",
        "import re\n",
        "def extract_square_meter(x):\n",
        "    # natch the square meter value, even if there is a range\n",
        "    match = re.search(r'\\((\\d{1,3}(?:,\\d{3})*)\\s*(?:<\\s*\\d{1,3}(?:,\\d{3})*)?\\s*m2\\)', x)\n",
        "    if match:\n",
        "        # extract the first value in the range, or the single value\n",
        "        square_meter_str = match.group(1).replace(\",\", \"\")\n",
        "        return int(square_meter_str)\n",
        "    return None\n",
        "\n",
        "retail['square_meters'] = retail['size_band'].apply(lambda x: extract_square_meter(x))\n",
        "retail.head()"
      ]
    },
    {
      "cell_type": "code",
      "execution_count": null,
      "id": "adc888d9",
      "metadata": {
        "ExecuteTime": {
          "end_time": "2025-06-21T15:38:30.372844Z",
          "start_time": "2025-06-21T15:38:30.111024Z"
        },
        "id": "adc888d9"
      },
      "outputs": [],
      "source": [
        "# Convert graph to GeoDataFrames\n",
        "nodes_walk, edges_walk = ox.graph_to_gdfs(G_walk)"
      ]
    },
    {
      "cell_type": "code",
      "execution_count": null,
      "id": "58b5eee8",
      "metadata": {
        "ExecuteTime": {
          "end_time": "2025-06-21T15:38:42.996387Z",
          "start_time": "2025-06-21T15:38:42.329605Z"
        },
        "id": "58b5eee8"
      },
      "outputs": [],
      "source": [
        "# Visualise the grocery stores on the map\n",
        "fig, ax = plt.subplots(figsize=(10, 10), facecolor='k')\n",
        "area.plot(ax=ax, facecolor='w', alpha=0.1)\n",
        "edges_walk.plot(color='w', ax=ax, linewidth=0.5, alpha=0.5)\n",
        "retail.plot(color='c', ax=ax, markersize='square_meters', alpha=0.5)\n",
        "ax.set_facecolor('k')\n",
        "ax.set_title('Retail in Oxford')"
      ]
    },
    {
      "cell_type": "markdown",
      "id": "31a6b81d",
      "metadata": {},
      "source": [
        "#### Step 2: Navigation & Routing"
      ]
    },
    {
      "cell_type": "code",
      "execution_count": null,
      "id": "11daf85d",
      "metadata": {},
      "outputs": [],
      "source": [
        "Origin_point = buildings[buildings['name']=='Deneke'].geometry.centroid\n",
        "destination_point = retail.sample(1, random_state=33).geometry.centroid\n",
        "\n",
        "\n",
        "Origin = ox.nearest_nodes(G_walk, Origin_point.x[0], Origin_point.y[0])\n",
        "print(Origin)\n",
        "\n",
        "destination = ox.nearest_nodes(G_walk, destination_point.x, destination_point.y)[0]\n",
        "print(destination)\n",
        "\n",
        "# get the shortest path between the two nodes\n",
        "route = nx.shortest_path(G_walk, Origin, destination, weight='length')\n",
        "route_length = nx.shortest_path_length(G_walk, Origin, destination, weight='length')\n",
        "\n",
        "# plot the route\n",
        "fig, ax = plt.subplots(1, 1, figsize=(10, 10), facecolor='k', subplot_kw=dict(aspect='equal'))\n",
        "\n",
        "# clean it up\n",
        "ax.set_facecolor('k')\n",
        "ax.set_axis_off()\n",
        "\n",
        "# add a title\n",
        "ax.set_title('Shortest route between Origin and Destination', fontsize=20, color='w', fontweight='bold')\n",
        "\n",
        "# Buildings as background\n",
        "buildings.plot(color='w', ax=ax)\n",
        "\n",
        "# Add the shortest distance as text on the plot\n",
        "ax.text(0.01, 0.01, f'Shortest distance: {route_length:.0f} meters',\n",
        "        transform=ax.transAxes, color='w', fontsize=14,\n",
        "        bbox=dict(facecolor='k', alpha=0.5, edgecolor='none'))\n",
        "\n",
        "# Plot the routing results\n",
        "ox.plot_graph_route(G_walk, route, node_size=2, ax=ax)"
      ]
    },
    {
      "cell_type": "markdown",
      "id": "1149e9d8",
      "metadata": {
        "id": "1149e9d8"
      },
      "source": [
        "#### Step 3: Catchment area and distance"
      ]
    },
    {
      "cell_type": "code",
      "execution_count": null,
      "id": "518e59f4",
      "metadata": {
        "ExecuteTime": {
          "end_time": "2025-06-21T15:39:12.977238Z",
          "start_time": "2025-06-21T15:39:12.957013Z"
        },
        "id": "518e59f4"
      },
      "outputs": [],
      "source": [
        "# Get the nearest network node to each point\n",
        "# Note: using geometry.x and .y is more robust for GeoDataFrames\n",
        "retail['nodes'] = ox.nearest_nodes(G_walk, retail.geometry.x, retail.geometry.y)"
      ]
    },
    {
      "cell_type": "code",
      "execution_count": null,
      "id": "7aebda64",
      "metadata": {
        "ExecuteTime": {
          "end_time": "2025-06-21T15:39:13.858622Z",
          "start_time": "2025-06-21T15:39:13.855823Z"
        },
        "id": "7aebda64"
      },
      "outputs": [],
      "source": [
        "retail['nodes'].to_numpy()"
      ]
    },
    {
      "cell_type": "code",
      "execution_count": null,
      "id": "06146bf1",
      "metadata": {
        "ExecuteTime": {
          "end_time": "2025-06-21T15:39:14.851515Z",
          "start_time": "2025-06-21T15:39:14.847222Z"
        },
        "id": "06146bf1"
      },
      "outputs": [],
      "source": [
        "# Each node has an ID and coordinate\n",
        "# G_walk.nodes(data=True) # This can be a very long output, let's not print it all\n",
        "list(G_walk.nodes(data=True))[:5]"
      ]
    },
    {
      "cell_type": "markdown",
      "id": "d1fff25f",
      "metadata": {
        "id": "d1fff25f"
      },
      "source": [
        "A Voronoi diagram assigns points to a set of seed or generator points according to proximity."
      ]
    },
    {
      "cell_type": "code",
      "execution_count": null,
      "id": "6c26fd9a",
      "metadata": {
        "ExecuteTime": {
          "end_time": "2025-06-21T15:39:18.089526Z",
          "start_time": "2025-06-21T15:39:17.992948Z"
        },
        "id": "6c26fd9a"
      },
      "outputs": [],
      "source": [
        "# Get the shortest paths from all the nodes to all the entrance nodes\n",
        "# This can take a moment\n",
        "%time lines = nx.multi_source_dijkstra_path(G_walk, set(retail['nodes'].to_numpy()), weight='length')\n",
        "# Voronoi cells creates a voronoi using the network rather than euclidean distance\n",
        "%time cells = nx.voronoi_cells(G_walk, set(retail['nodes'].to_numpy()), weight='length')"
      ]
    },
    {
      "cell_type": "markdown",
      "id": "ede02ca0",
      "metadata": {
        "id": "ede02ca0"
      },
      "source": [
        "For more actions on the Dijkstra algorithm, see `nx.dijkstra_*` and its many endings."
      ]
    },
    {
      "cell_type": "code",
      "execution_count": null,
      "id": "565e2f1d",
      "metadata": {
        "ExecuteTime": {
          "end_time": "2025-06-21T15:39:19.454961Z",
          "start_time": "2025-06-21T15:39:19.443102Z"
        },
        "id": "565e2f1d"
      },
      "outputs": [],
      "source": [
        "cells_df_list = [pd.DataFrame({'parent': x[0], 'child': list(x[1])}) for x in cells.items()]\n",
        "merged = pd.concat(cells_df_list).merge(nodes_walk, left_on='child', right_on='osmid', how='left')"
      ]
    },
    {
      "cell_type": "code",
      "execution_count": null,
      "id": "c6778338",
      "metadata": {
        "ExecuteTime": {
          "end_time": "2025-06-21T15:39:27.810751Z",
          "start_time": "2025-06-21T15:39:27.806204Z"
        },
        "id": "c6778338"
      },
      "outputs": [],
      "source": [
        "merged.head()"
      ]
    },
    {
      "cell_type": "code",
      "execution_count": null,
      "id": "44070003",
      "metadata": {
        "ExecuteTime": {
          "end_time": "2025-06-21T15:39:29.813752Z",
          "start_time": "2025-06-21T15:39:28.689705Z"
        },
        "id": "44070003"
      },
      "outputs": [],
      "source": [
        "# Plot the edges in black\n",
        "fig, ax = plt.subplots(figsize=(10, 10), facecolor='k')\n",
        "edges_walk.plot(color='w', ax=ax, linewidth=0.5, alpha=0.5)\n",
        "\n",
        "# Convert the merged cell dataframe to a geodataframe and plot it\n",
        "gpd.GeoDataFrame(merged,\n",
        "                 geometry=gpd.points_from_xy(merged['x'], merged['y']),\n",
        "                 crs=4326).plot('parent', markersize=1, cmap=cc.cm.glasbey_dark, ax=ax)\n",
        "\n",
        "# Plot the grocery stores in light grey to highlight them\n",
        "retail.plot(color='w', ax=ax, markersize='square_meters', alpha=0.5)\n",
        "\n",
        "# Clean it up\n",
        "ax.set_axis_off()\n",
        "ax.set_facecolor('k')\n",
        "\n",
        "# Add a title\n",
        "ax.set_title('Retail Catchments', fontsize=20, fontweight='bold', color='w')"
      ]
    },
    {
      "cell_type": "markdown",
      "id": "cffb6a0b",
      "metadata": {
        "id": "cffb6a0b"
      },
      "source": [
        "We have now assigned each intersection to its nearest grocery store."
      ]
    },
    {
      "cell_type": "code",
      "execution_count": null,
      "id": "c0c9466f",
      "metadata": {
        "ExecuteTime": {
          "end_time": "2025-06-21T15:40:04.459594Z",
          "start_time": "2025-06-21T15:40:04.410681Z"
        },
        "id": "c0c9466f"
      },
      "outputs": [],
      "source": [
        "# Let's check the distances to shops from all nodes\n",
        "%time lengths = nx.multi_source_dijkstra_path_length(G_walk, set(retail['nodes'].to_numpy()), weight=\"length\")"
      ]
    },
    {
      "cell_type": "code",
      "execution_count": null,
      "id": "d17f80d4",
      "metadata": {
        "ExecuteTime": {
          "end_time": "2025-06-21T15:40:05.352633Z",
          "start_time": "2025-06-21T15:40:05.292714Z"
        },
        "id": "d17f80d4"
      },
      "outputs": [],
      "source": [
        "# Make a data frame of the lengths\n",
        "lengths = pd.DataFrame({'osmid':lengths.keys(), 'distance': lengths.values()})\n",
        "# There may be some outliers, let's remove nodes that are very far\n",
        "# We can inspect the distribution to make a better choice\n",
        "lengths['distance'].plot.hist(bins=50)\n",
        "plt.show()"
      ]
    },
    {
      "cell_type": "code",
      "execution_count": null,
      "id": "447c1ed5",
      "metadata": {
        "ExecuteTime": {
          "end_time": "2025-06-21T15:40:19.912950Z",
          "start_time": "2025-06-21T15:40:19.910828Z"
        },
        "id": "447c1ed5"
      },
      "outputs": [],
      "source": [
        "# You can set an optional reasonable threshold of walking distance, e.g., 5000 metres\n",
        "# lengths = lengths[lengths['distance'] < 5000]"
      ]
    },
    {
      "cell_type": "code",
      "execution_count": null,
      "id": "d8995286",
      "metadata": {
        "ExecuteTime": {
          "end_time": "2025-06-21T15:40:20.495489Z",
          "start_time": "2025-06-21T15:40:20.492767Z"
        },
        "id": "d8995286"
      },
      "outputs": [],
      "source": [
        "# What is the average length?\n",
        "int(lengths['distance'].mean())"
      ]
    },
    {
      "cell_type": "code",
      "execution_count": null,
      "id": "0e348032",
      "metadata": {
        "ExecuteTime": {
          "end_time": "2025-06-21T15:40:21.027982Z",
          "start_time": "2025-06-21T15:40:21.025326Z"
        },
        "id": "0e348032"
      },
      "outputs": [],
      "source": [
        "# Let us check what is the max distance\n",
        "int(lengths['distance'].max())"
      ]
    },
    {
      "cell_type": "code",
      "execution_count": null,
      "id": "0d8ba207",
      "metadata": {
        "ExecuteTime": {
          "end_time": "2025-06-21T15:40:30.067489Z",
          "start_time": "2025-06-21T15:40:28.953792Z"
        },
        "id": "0d8ba207"
      },
      "outputs": [],
      "source": [
        "# Same as before but with distance as the column of interest\n",
        "fig, ax = plt.subplots(figsize=(10, 10), facecolor='k')\n",
        "edges_walk.plot(color='w', ax=ax, linewidth=0.5, alpha=0.5)\n",
        "gpd.GeoDataFrame(merged,\n",
        "                 geometry=gpd.points_from_xy(merged['x'], merged['y']),\n",
        "                 crs=4326).merge(lengths,\n",
        "                                 left_on='child',\n",
        "                                 right_on='osmid',\n",
        "                                 how='left').plot('distance', markersize=2, cmap=cc.cm.bmw, ax=ax)\n",
        "\n",
        "# Plot the grocery stores in light grey to highlight them\n",
        "retail.plot(color='w', ax=ax, markersize='square_meters', alpha=0.5)\n",
        "\n",
        "# Clean it up\n",
        "ax.set_axis_off()\n",
        "ax.set_facecolor('k')\n",
        "\n",
        "# Add a title\n",
        "ax.set_title('Retail Distances', fontsize=20, fontweight='bold', color='w')"
      ]
    },
    {
      "cell_type": "markdown",
      "id": "4bf5aaf6",
      "metadata": {
        "id": "4bf5aaf6"
      },
      "source": [
        "**Important:** For a practical application, you will need to be able to create a matrix that contains the distance between all origins and all destinations. What we have done so far assigns each node to its nearest grocery store. You will need to create a matrix that contains the distance between all nodes. This is a bit more complex, but we will guide you through it.\n",
        "\n",
        "[If you are using a square matrix, which we are not, you can use `nx.all_pairs_dijkstra_path_length`, but this takes a lot of computational power and time.]"
      ]
    },
    {
      "cell_type": "code",
      "execution_count": null,
      "id": "d57c78cc",
      "metadata": {
        "ExecuteTime": {
          "end_time": "2025-06-21T15:41:38.070371Z",
          "start_time": "2025-06-21T15:41:08.496595Z"
        },
        "id": "d57c78cc"
      },
      "outputs": [],
      "source": [
        "%%time\n",
        "distances = {}\n",
        "\n",
        "# We are only going to plot the top 10 for visualisation purposes\n",
        "# Let's make sure the 'name' column has no NaNs for titles\n",
        "retail_named = retail.dropna(subset=['store_name']).reset_index(drop=True)\n",
        "subset = retail_named.head(10)\n",
        "\n",
        "fig, axs = plt.subplots(5, 2, figsize=(10, 20), facecolor='k')\n",
        "axs = axs.ravel()\n",
        "\n",
        "# For each grocery store, let's get the distance to all nodes, and plot them all\n",
        "for i, row in subset.iterrows():\n",
        "    n = row['nodes']\n",
        "    d = nx.single_source_dijkstra_path_length(G_walk, n, weight='length')\n",
        "    d = pd.DataFrame({'osmid': d.keys(), 'distance': d.values()})\n",
        "    distances[n] = d\n",
        "\n",
        "    # Visualisation of first 10 grocery stores only\n",
        "    if i < 25:\n",
        "\n",
        "        edges_walk.plot(color='w', ax=axs[i], linewidth=0.5, alpha=0.5)\n",
        "        gpd.GeoDataFrame(merged,\n",
        "                        geometry=gpd.points_from_xy(merged['x'], merged['y']),\n",
        "                        crs=4326).merge(d,\n",
        "                                        left_on='child',\n",
        "                                        right_on='osmid',\n",
        "                                        how='left').plot('distance', markersize=2, cmap=cc.cm.bmy, ax=axs[i])\n",
        "\n",
        "        retail[retail['nodes']==n].plot(color='w', ax=axs[i], markersize=20, alpha=0.9, marker='*')\n",
        "        axs[i].set_axis_off()\n",
        "        axs[i].set_facecolor('k')\n",
        "        axs[i].set_title(row['store_name'], fontsize=10, fontweight='bold', color='w')\n",
        "\n",
        "plt.tight_layout()\n",
        "plt.show()"
      ]
    },
    {
      "cell_type": "markdown",
      "id": "68d0af2a",
      "metadata": {
        "id": "68d0af2a"
      },
      "source": [
        "**Bonus**:\n",
        "\n",
        "Select the retail location closest to our current place, Lady Margaret Hall, and plot the shortest route from this location to the selected retail location.\n",
        "\n",
        "Here we will compute all the distances from the origin to all retail locations."
      ]
    },
    {
      "cell_type": "code",
      "execution_count": null,
      "id": "709d53cd",
      "metadata": {
        "id": "709d53cd"
      },
      "outputs": [],
      "source": [
        "# 1. Define the origin point\n",
        "place_name = 'Deneke'\n",
        "Origin_point = buildings[buildings['name']=='Deneke'].geometry.centroid.iloc[0]\n",
        "\n",
        "# 2. Find the nearest node in the graph to the origin\n",
        "origin_node = ox.nearest_nodes(G_walk, Origin_point.x, Origin_point.y)\n",
        "\n",
        "# 3. Find the nearest retail location to the origin node\n",
        "# Get all possible destination nodes (from the retail dataframe)\n",
        "destination_nodes = retail['nodes'].unique()\n",
        "\n",
        "# Calculate shortest path length from origin to all other nodes\n",
        "lengths = nx.single_source_dijkstra_path_length(G_walk, origin_node, weight='length')\n",
        "\n",
        "# Find the closest destination node among the retail locations\n",
        "min_dist = float('inf')\n",
        "destination_node = None\n",
        "\n",
        "for node in destination_nodes:\n",
        "    if node in lengths and lengths[node] < min_dist:\n",
        "        min_dist = lengths[node]\n",
        "        destination_node = node\n",
        "\n",
        "# 4. Get the shortest path between the origin and the selected destination\n",
        "route = nx.shortest_path(G_walk, origin_node, destination_node, weight='length')\n",
        "\n",
        "# 5. Plot the route\n",
        "fig, ax = plt.subplots(1, 1, figsize=(10, 10), facecolor='k', subplot_kw=dict(aspect='equal'))\n",
        "ax.set_facecolor('k')\n",
        "ax.set_axis_off()\n",
        "ax.set_title('Shortest route between Origin and Destination', fontsize=20, color='w', fontweight='bold')\n",
        "buildings.plot(color='w', ax=ax)\n",
        "\n",
        "# Add the shortest distance as text on the plot\n",
        "ax.text(0.01, 0.01, f'Shortest distance: {min_dist:.0f} meters',\n",
        "        transform=ax.transAxes, color='w', fontsize=14,\n",
        "        bbox=dict(facecolor='k', alpha=0.5, edgecolor='none'))\n",
        "\n",
        "ox.plot_graph_route(G_walk, route, node_size=2, ax=ax, route_color='c')"
      ]
    }
  ],
  "metadata": {
    "accelerator": "TPU",
    "colab": {
      "collapsed_sections": [
        "d023b2620e08d617",
        "muslim-hearing",
        "XIq45Dv2nFIa",
        "s-vlg1WPiKrG",
        "CZv_TjJoeNHk"
      ],
      "gpuType": "V28",
      "provenance": [],
      "toc_visible": true
    },
    "kernelspec": {
      "display_name": ".venv",
      "language": "python",
      "name": "python3"
    },
    "language_info": {
      "codemirror_mode": {
        "name": "ipython",
        "version": 3
      },
      "file_extension": ".py",
      "mimetype": "text/x-python",
      "name": "python",
      "nbconvert_exporter": "python",
      "pygments_lexer": "ipython3",
      "version": "3.12.9"
    }
  },
  "nbformat": 4,
  "nbformat_minor": 5
}
